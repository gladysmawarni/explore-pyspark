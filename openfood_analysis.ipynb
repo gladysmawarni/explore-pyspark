{
 "cells": [
  {
   "cell_type": "markdown",
   "metadata": {},
   "source": [
    "## Setting up PySpark"
   ]
  },
  {
   "cell_type": "code",
   "execution_count": 1,
   "metadata": {},
   "outputs": [],
   "source": [
    "# PySpark is not on the system path by default and sometimes Python cannot find it\n",
    "# so we use this library (just in case) to initialize PySpark\n",
    "import findspark\n",
    "findspark.init()"
   ]
  },
  {
   "cell_type": "code",
   "execution_count": 2,
   "metadata": {},
   "outputs": [],
   "source": [
    "# import the libraries\n",
    "# pyspark.sql -> is a component that facilitates processing of structured (ex: CSV) and semi-structured data (ex: JSOn) & it allows us to use SQL syntax\n",
    "# SparkSession -> is the entry point to create spark dataframe or RDD (resilient distributed datasets)\n",
    "from pyspark.sql import SparkSession\n",
    "from pyspark.sql.functions import desc, avg, count"
   ]
  },
  {
   "cell_type": "code",
   "execution_count": 3,
   "metadata": {},
   "outputs": [],
   "source": [
    "# build the application\n",
    "spark = SparkSession.builder.appName(\"openfoodAnalysis\").getOrCreate()"
   ]
  },
  {
   "cell_type": "code",
   "execution_count": 4,
   "metadata": {},
   "outputs": [
    {
     "name": "stdout",
     "output_type": "stream",
     "text": [
      "root\n",
      " |-- code: double (nullable = true)\n",
      " |-- url: string (nullable = true)\n",
      " |-- creator: string (nullable = true)\n",
      " |-- created_t: integer (nullable = true)\n",
      " |-- created_datetime: timestamp (nullable = true)\n",
      " |-- last_modified_t: integer (nullable = true)\n",
      " |-- last_modified_datetime: timestamp (nullable = true)\n",
      " |-- product_name: string (nullable = true)\n",
      " |-- abbreviated_product_name: string (nullable = true)\n",
      " |-- generic_name: string (nullable = true)\n",
      " |-- quantity: string (nullable = true)\n",
      " |-- packaging: string (nullable = true)\n",
      " |-- packaging_tags: string (nullable = true)\n",
      " |-- packaging_en: string (nullable = true)\n",
      " |-- packaging_text: string (nullable = true)\n",
      " |-- brands: string (nullable = true)\n",
      " |-- brands_tags: string (nullable = true)\n",
      " |-- categories: string (nullable = true)\n",
      " |-- categories_tags: string (nullable = true)\n",
      " |-- categories_en: string (nullable = true)\n",
      " |-- origins: string (nullable = true)\n",
      " |-- origins_tags: string (nullable = true)\n",
      " |-- origins_en: string (nullable = true)\n",
      " |-- manufacturing_places: string (nullable = true)\n",
      " |-- manufacturing_places_tags: string (nullable = true)\n",
      " |-- labels: string (nullable = true)\n",
      " |-- labels_tags: string (nullable = true)\n",
      " |-- labels_en: string (nullable = true)\n",
      " |-- emb_codes: string (nullable = true)\n",
      " |-- emb_codes_tags: string (nullable = true)\n",
      " |-- first_packaging_code_geo: string (nullable = true)\n",
      " |-- cities: string (nullable = true)\n",
      " |-- cities_tags: string (nullable = true)\n",
      " |-- purchase_places: string (nullable = true)\n",
      " |-- stores: string (nullable = true)\n",
      " |-- countries: string (nullable = true)\n",
      " |-- countries_tags: string (nullable = true)\n",
      " |-- countries_en: string (nullable = true)\n",
      " |-- ingredients_text: string (nullable = true)\n",
      " |-- ingredients_tags: string (nullable = true)\n",
      " |-- allergens: string (nullable = true)\n",
      " |-- allergens_en: string (nullable = true)\n",
      " |-- traces: string (nullable = true)\n",
      " |-- traces_tags: string (nullable = true)\n",
      " |-- traces_en: string (nullable = true)\n",
      " |-- serving_size: string (nullable = true)\n",
      " |-- serving_quantity: double (nullable = true)\n",
      " |-- no_nutriments: string (nullable = true)\n",
      " |-- additives_n: integer (nullable = true)\n",
      " |-- additives: string (nullable = true)\n",
      " |-- additives_tags: string (nullable = true)\n",
      " |-- additives_en: string (nullable = true)\n",
      " |-- nutriscore_score: integer (nullable = true)\n",
      " |-- nutriscore_grade: string (nullable = true)\n",
      " |-- nova_group: integer (nullable = true)\n",
      " |-- pnns_groups_1: string (nullable = true)\n",
      " |-- pnns_groups_2: string (nullable = true)\n",
      " |-- food_groups: string (nullable = true)\n",
      " |-- food_groups_tags: string (nullable = true)\n",
      " |-- food_groups_en: string (nullable = true)\n",
      " |-- states: string (nullable = true)\n",
      " |-- states_tags: string (nullable = true)\n",
      " |-- states_en: string (nullable = true)\n",
      " |-- brand_owner: string (nullable = true)\n",
      " |-- ecoscore_score: double (nullable = true)\n",
      " |-- ecoscore_grade: string (nullable = true)\n",
      " |-- main_category: string (nullable = true)\n",
      " |-- main_category_en: string (nullable = true)\n",
      " |-- image_url: string (nullable = true)\n",
      " |-- image_small_url: string (nullable = true)\n",
      " |-- image_ingredients_url: string (nullable = true)\n",
      " |-- image_ingredients_small_url: string (nullable = true)\n",
      " |-- image_nutrition_url: string (nullable = true)\n",
      " |-- image_nutrition_small_url: string (nullable = true)\n",
      " |-- energy-kj_100g: double (nullable = true)\n",
      " |-- energy-kcal_100g: double (nullable = true)\n",
      " |-- energy_100g: double (nullable = true)\n",
      " |-- energy-from-fat_100g: double (nullable = true)\n",
      " |-- fat_100g: double (nullable = true)\n",
      " |-- saturated-fat_100g: double (nullable = true)\n",
      " |-- -butyric-acid_100g: string (nullable = true)\n",
      " |-- -caproic-acid_100g: string (nullable = true)\n",
      " |-- -caprylic-acid_100g: string (nullable = true)\n",
      " |-- -capric-acid_100g: string (nullable = true)\n",
      " |-- -lauric-acid_100g: string (nullable = true)\n",
      " |-- -myristic-acid_100g: string (nullable = true)\n",
      " |-- -palmitic-acid_100g: string (nullable = true)\n",
      " |-- -stearic-acid_100g: string (nullable = true)\n",
      " |-- -arachidic-acid_100g: string (nullable = true)\n",
      " |-- -behenic-acid_100g: string (nullable = true)\n",
      " |-- -lignoceric-acid_100g: string (nullable = true)\n",
      " |-- -cerotic-acid_100g: string (nullable = true)\n",
      " |-- -montanic-acid_100g: string (nullable = true)\n",
      " |-- -melissic-acid_100g: string (nullable = true)\n",
      " |-- monounsaturated-fat_100g: double (nullable = true)\n",
      " |-- polyunsaturated-fat_100g: double (nullable = true)\n",
      " |-- omega-3-fat_100g: double (nullable = true)\n",
      " |-- -alpha-linolenic-acid_100g: string (nullable = true)\n",
      " |-- -eicosapentaenoic-acid_100g: string (nullable = true)\n",
      " |-- -docosahexaenoic-acid_100g: string (nullable = true)\n",
      " |-- omega-6-fat_100g: double (nullable = true)\n",
      " |-- -linoleic-acid_100g: string (nullable = true)\n",
      " |-- -arachidonic-acid_100g: string (nullable = true)\n",
      " |-- -gamma-linolenic-acid_100g: string (nullable = true)\n",
      " |-- -dihomo-gamma-linolenic-acid_100g: string (nullable = true)\n",
      " |-- omega-9-fat_100g: double (nullable = true)\n",
      " |-- -oleic-acid_100g: string (nullable = true)\n",
      " |-- -elaidic-acid_100g: string (nullable = true)\n",
      " |-- -gondoic-acid_100g: string (nullable = true)\n",
      " |-- -mead-acid_100g: string (nullable = true)\n",
      " |-- -erucic-acid_100g: string (nullable = true)\n",
      " |-- -nervonic-acid_100g: string (nullable = true)\n",
      " |-- trans-fat_100g: double (nullable = true)\n",
      " |-- cholesterol_100g: double (nullable = true)\n",
      " |-- carbohydrates_100g: double (nullable = true)\n",
      " |-- sugars_100g: double (nullable = true)\n",
      " |-- -sucrose_100g: string (nullable = true)\n",
      " |-- -glucose_100g: string (nullable = true)\n",
      " |-- -fructose_100g: string (nullable = true)\n",
      " |-- -lactose_100g: string (nullable = true)\n",
      " |-- -maltose_100g: string (nullable = true)\n",
      " |-- -maltodextrins_100g: string (nullable = true)\n",
      " |-- starch_100g: double (nullable = true)\n",
      " |-- polyols_100g: double (nullable = true)\n",
      " |-- fiber_100g: double (nullable = true)\n",
      " |-- soluble-fiber_100g: double (nullable = true)\n",
      " |-- insoluble-fiber_100g: double (nullable = true)\n",
      " |-- proteins_100g: double (nullable = true)\n",
      " |-- casein_100g: double (nullable = true)\n",
      " |-- serum-proteins_100g: double (nullable = true)\n",
      " |-- nucleotides_100g: double (nullable = true)\n",
      " |-- salt_100g: double (nullable = true)\n",
      " |-- sodium_100g: double (nullable = true)\n",
      " |-- alcohol_100g: double (nullable = true)\n",
      " |-- vitamin-a_100g: double (nullable = true)\n",
      " |-- beta-carotene_100g: double (nullable = true)\n",
      " |-- vitamin-d_100g: double (nullable = true)\n",
      " |-- vitamin-e_100g: double (nullable = true)\n",
      " |-- vitamin-k_100g: double (nullable = true)\n",
      " |-- vitamin-c_100g: double (nullable = true)\n",
      " |-- vitamin-b1_100g: double (nullable = true)\n",
      " |-- vitamin-b2_100g: double (nullable = true)\n",
      " |-- vitamin-pp_100g: double (nullable = true)\n",
      " |-- vitamin-b6_100g: double (nullable = true)\n",
      " |-- vitamin-b9_100g: double (nullable = true)\n",
      " |-- folates_100g: double (nullable = true)\n",
      " |-- vitamin-b12_100g: double (nullable = true)\n",
      " |-- biotin_100g: double (nullable = true)\n",
      " |-- pantothenic-acid_100g: double (nullable = true)\n",
      " |-- silica_100g: double (nullable = true)\n",
      " |-- bicarbonate_100g: double (nullable = true)\n",
      " |-- potassium_100g: double (nullable = true)\n",
      " |-- chloride_100g: double (nullable = true)\n",
      " |-- calcium_100g: double (nullable = true)\n",
      " |-- phosphorus_100g: double (nullable = true)\n",
      " |-- iron_100g: double (nullable = true)\n",
      " |-- magnesium_100g: double (nullable = true)\n",
      " |-- zinc_100g: double (nullable = true)\n",
      " |-- copper_100g: double (nullable = true)\n",
      " |-- manganese_100g: double (nullable = true)\n",
      " |-- fluoride_100g: double (nullable = true)\n",
      " |-- selenium_100g: double (nullable = true)\n",
      " |-- chromium_100g: double (nullable = true)\n",
      " |-- molybdenum_100g: double (nullable = true)\n",
      " |-- iodine_100g: double (nullable = true)\n",
      " |-- caffeine_100g: double (nullable = true)\n",
      " |-- taurine_100g: double (nullable = true)\n",
      " |-- ph_100g: double (nullable = true)\n",
      " |-- fruits-vegetables-nuts_100g: double (nullable = true)\n",
      " |-- fruits-vegetables-nuts-dried_100g: double (nullable = true)\n",
      " |-- fruits-vegetables-nuts-estimate_100g: double (nullable = true)\n",
      " |-- fruits-vegetables-nuts-estimate-from-ingredients_100g: double (nullable = true)\n",
      " |-- collagen-meat-protein-ratio_100g: double (nullable = true)\n",
      " |-- cocoa_100g: double (nullable = true)\n",
      " |-- chlorophyl_100g: double (nullable = true)\n",
      " |-- carbon-footprint_100g: double (nullable = true)\n",
      " |-- carbon-footprint-from-meat-or-fish_100g: double (nullable = true)\n",
      " |-- nutrition-score-fr_100g: integer (nullable = true)\n",
      " |-- nutrition-score-uk_100g: integer (nullable = true)\n",
      " |-- glycemic-index_100g: double (nullable = true)\n",
      " |-- water-hardness_100g: double (nullable = true)\n",
      " |-- choline_100g: double (nullable = true)\n",
      " |-- phylloquinone_100g: double (nullable = true)\n",
      " |-- beta-glucan_100g: double (nullable = true)\n",
      " |-- inositol_100g: double (nullable = true)\n",
      " |-- carnitine_100g: double (nullable = true)\n",
      "\n"
     ]
    }
   ],
   "source": [
    "## load the data\n",
    "\n",
    "# delimiter = how to separate\n",
    "# header = to get the column name\n",
    "# inferSchema = to get the correct data type for each column \n",
    "data = spark.read.options(delimiter='\\t', header= True, inferSchema=True).csv(\"D:\\Downloads\\openfood.csv\")\n",
    "data.printSchema()"
   ]
  },
  {
   "cell_type": "markdown",
   "metadata": {},
   "source": [
    "## Exploring the data"
   ]
  },
  {
   "cell_type": "code",
   "execution_count": 5,
   "metadata": {},
   "outputs": [
    {
     "data": {
      "text/plain": [
       "pyspark.sql.dataframe.DataFrame"
      ]
     },
     "execution_count": 5,
     "metadata": {},
     "output_type": "execute_result"
    }
   ],
   "source": [
    "# check the object type\n",
    "type(data)"
   ]
  },
  {
   "cell_type": "code",
   "execution_count": 6,
   "metadata": {},
   "outputs": [
    {
     "name": "stdout",
     "output_type": "stream",
     "text": [
      "2445422\n",
      "186\n"
     ]
    }
   ],
   "source": [
    "# check the size of the data\n",
    "print(data.count()) # rows -> 2.445.422\n",
    "print(len(data.columns)) # columns -> 186"
   ]
  },
  {
   "cell_type": "code",
   "execution_count": 7,
   "metadata": {},
   "outputs": [
    {
     "data": {
      "text/plain": [
       "[Row(code=225.0, url='http://world-en.openfoodfacts.org/product/00000000000000225/jeunes-pousses-endives', creator='nutrinet-sante', created_t=1623855208, created_datetime=datetime.datetime(2021, 6, 16, 15, 53, 28), last_modified_t=1623855209, last_modified_datetime=datetime.datetime(2021, 6, 16, 15, 53, 29), product_name='jeunes pousses', abbreviated_product_name=None, generic_name=None, quantity=None, packaging=None, packaging_tags=None, packaging_en=None, packaging_text=None, brands='endives', brands_tags='endives', categories=None, categories_tags=None, categories_en=None, origins=None, origins_tags=None, origins_en=None, manufacturing_places=None, manufacturing_places_tags=None, labels=None, labels_tags=None, labels_en=None, emb_codes=None, emb_codes_tags=None, first_packaging_code_geo=None, cities=None, cities_tags=None, purchase_places=None, stores=None, countries='en:france', countries_tags='en:france', countries_en='France', ingredients_text=None, ingredients_tags=None, allergens=None, allergens_en=None, traces=None, traces_tags=None, traces_en=None, serving_size=None, serving_quantity=None, no_nutriments=None, additives_n=None, additives=None, additives_tags=None, additives_en=None, nutriscore_score=None, nutriscore_grade=None, nova_group=None, pnns_groups_1='unknown', pnns_groups_2='unknown', food_groups=None, food_groups_tags=None, food_groups_en=None, states='en:to-be-completed, en:nutrition-facts-to-be-completed, en:ingredients-to-be-completed, en:expiration-date-to-be-completed, en:packaging-code-to-be-completed, en:characteristics-to-be-completed, en:origins-to-be-completed, en:categories-to-be-completed, en:brands-completed, en:packaging-to-be-completed, en:quantity-to-be-completed, en:product-name-completed, en:photos-to-be-uploaded', states_tags='en:to-be-completed,en:nutrition-facts-to-be-completed,en:ingredients-to-be-completed,en:expiration-date-to-be-completed,en:packaging-code-to-be-completed,en:characteristics-to-be-completed,en:origins-to-be-completed,en:categories-to-be-completed,en:brands-completed,en:packaging-to-be-completed,en:quantity-to-be-completed,en:product-name-completed,en:photos-to-be-uploaded', states_en='To be completed,Nutrition facts to be completed,Ingredients to be completed,Expiration date to be completed,Packaging code to be completed,Characteristics to be completed,Origins to be completed,Categories to be completed,Brands completed,Packaging to be completed,Quantity to be completed,Product name completed,Photos to be uploaded', brand_owner=None, ecoscore_score=None, ecoscore_grade='unknown', main_category=None, main_category_en=None, image_url=None, image_small_url=None, image_ingredients_url=None, image_ingredients_small_url=None, image_nutrition_url=None, image_nutrition_small_url=None, energy-kj_100g=None, energy-kcal_100g=None, energy_100g=None, energy-from-fat_100g=None, fat_100g=None, saturated-fat_100g=None, -butyric-acid_100g=None, -caproic-acid_100g=None, -caprylic-acid_100g=None, -capric-acid_100g=None, -lauric-acid_100g=None, -myristic-acid_100g=None, -palmitic-acid_100g=None, -stearic-acid_100g=None, -arachidic-acid_100g=None, -behenic-acid_100g=None, -lignoceric-acid_100g=None, -cerotic-acid_100g=None, -montanic-acid_100g=None, -melissic-acid_100g=None, monounsaturated-fat_100g=None, polyunsaturated-fat_100g=None, omega-3-fat_100g=None, -alpha-linolenic-acid_100g=None, -eicosapentaenoic-acid_100g=None, -docosahexaenoic-acid_100g=None, omega-6-fat_100g=None, -linoleic-acid_100g=None, -arachidonic-acid_100g=None, -gamma-linolenic-acid_100g=None, -dihomo-gamma-linolenic-acid_100g=None, omega-9-fat_100g=None, -oleic-acid_100g=None, -elaidic-acid_100g=None, -gondoic-acid_100g=None, -mead-acid_100g=None, -erucic-acid_100g=None, -nervonic-acid_100g=None, trans-fat_100g=None, cholesterol_100g=None, carbohydrates_100g=None, sugars_100g=None, -sucrose_100g=None, -glucose_100g=None, -fructose_100g=None, -lactose_100g=None, -maltose_100g=None, -maltodextrins_100g=None, starch_100g=None, polyols_100g=None, fiber_100g=None, soluble-fiber_100g=None, insoluble-fiber_100g=None, proteins_100g=None, casein_100g=None, serum-proteins_100g=None, nucleotides_100g=None, salt_100g=None, sodium_100g=None, alcohol_100g=None, vitamin-a_100g=None, beta-carotene_100g=None, vitamin-d_100g=None, vitamin-e_100g=None, vitamin-k_100g=None, vitamin-c_100g=None, vitamin-b1_100g=None, vitamin-b2_100g=None, vitamin-pp_100g=None, vitamin-b6_100g=None, vitamin-b9_100g=None, folates_100g=None, vitamin-b12_100g=None, biotin_100g=None, pantothenic-acid_100g=None, silica_100g=None, bicarbonate_100g=None, potassium_100g=None, chloride_100g=None, calcium_100g=None, phosphorus_100g=None, iron_100g=None, magnesium_100g=None, zinc_100g=None, copper_100g=None, manganese_100g=None, fluoride_100g=None, selenium_100g=None, chromium_100g=None, molybdenum_100g=None, iodine_100g=None, caffeine_100g=None, taurine_100g=None, ph_100g=None, fruits-vegetables-nuts_100g=None, fruits-vegetables-nuts-dried_100g=None, fruits-vegetables-nuts-estimate_100g=None, fruits-vegetables-nuts-estimate-from-ingredients_100g=None, collagen-meat-protein-ratio_100g=None, cocoa_100g=None, chlorophyl_100g=None, carbon-footprint_100g=None, carbon-footprint-from-meat-or-fish_100g=None, nutrition-score-fr_100g=None, nutrition-score-uk_100g=None, glycemic-index_100g=None, water-hardness_100g=None, choline_100g=None, phylloquinone_100g=None, beta-glucan_100g=None, inositol_100g=None, carnitine_100g=None)]"
      ]
     },
     "execution_count": 7,
     "metadata": {},
     "output_type": "execute_result"
    }
   ],
   "source": [
    "# shows the first row in a list format\n",
    "data.head(1)"
   ]
  },
  {
   "cell_type": "code",
   "execution_count": 8,
   "metadata": {},
   "outputs": [
    {
     "name": "stdout",
     "output_type": "stream",
     "text": [
      "+-----+--------------------+--------------+----------+-------------------+---------------+----------------------+--------------+------------------------+------------+--------+---------+--------------+------------+--------------+-------+-----------+----------+---------------+-------------+-------+------------+----------+--------------------+-------------------------+------+-----------+---------+---------+--------------+------------------------+------+-----------+---------------+------+---------+--------------+------------+----------------+----------------+---------+------------+------+-----------+---------+------------+----------------+-------------+-----------+---------+--------------+------------+----------------+----------------+----------+-------------+-------------+-----------+----------------+--------------+--------------------+--------------------+--------------------+-----------+--------------+--------------+-------------+----------------+---------+---------------+---------------------+---------------------------+-------------------+-------------------------+--------------+----------------+-----------+--------------------+--------+------------------+------------------+------------------+-------------------+-----------------+-----------------+-------------------+-------------------+------------------+--------------------+------------------+---------------------+------------------+-------------------+-------------------+------------------------+------------------------+----------------+--------------------------+---------------------------+--------------------------+----------------+-------------------+----------------------+--------------------------+---------------------------------+----------------+----------------+------------------+------------------+---------------+-----------------+-------------------+--------------+----------------+------------------+-----------+-------------+-------------+--------------+-------------+-------------+-------------------+-----------+------------+----------+------------------+--------------------+-------------+-----------+-------------------+----------------+---------+-----------+------------+--------------+------------------+--------------+--------------+--------------+--------------+---------------+---------------+---------------+---------------+---------------+------------+----------------+-----------+---------------------+-----------+----------------+--------------+-------------+------------+---------------+---------+--------------+---------+-----------+--------------+-------------+-------------+-------------+---------------+-----------+-------------+------------+-------+---------------------------+---------------------------------+------------------------------------+-----------------------------------------------------+--------------------------------+----------+---------------+---------------------+---------------------------------------+-----------------------+-----------------------+-------------------+-------------------+------------+------------------+----------------+-------------+--------------+\n",
      "| code|                 url|       creator| created_t|   created_datetime|last_modified_t|last_modified_datetime|  product_name|abbreviated_product_name|generic_name|quantity|packaging|packaging_tags|packaging_en|packaging_text| brands|brands_tags|categories|categories_tags|categories_en|origins|origins_tags|origins_en|manufacturing_places|manufacturing_places_tags|labels|labels_tags|labels_en|emb_codes|emb_codes_tags|first_packaging_code_geo|cities|cities_tags|purchase_places|stores|countries|countries_tags|countries_en|ingredients_text|ingredients_tags|allergens|allergens_en|traces|traces_tags|traces_en|serving_size|serving_quantity|no_nutriments|additives_n|additives|additives_tags|additives_en|nutriscore_score|nutriscore_grade|nova_group|pnns_groups_1|pnns_groups_2|food_groups|food_groups_tags|food_groups_en|              states|         states_tags|           states_en|brand_owner|ecoscore_score|ecoscore_grade|main_category|main_category_en|image_url|image_small_url|image_ingredients_url|image_ingredients_small_url|image_nutrition_url|image_nutrition_small_url|energy-kj_100g|energy-kcal_100g|energy_100g|energy-from-fat_100g|fat_100g|saturated-fat_100g|-butyric-acid_100g|-caproic-acid_100g|-caprylic-acid_100g|-capric-acid_100g|-lauric-acid_100g|-myristic-acid_100g|-palmitic-acid_100g|-stearic-acid_100g|-arachidic-acid_100g|-behenic-acid_100g|-lignoceric-acid_100g|-cerotic-acid_100g|-montanic-acid_100g|-melissic-acid_100g|monounsaturated-fat_100g|polyunsaturated-fat_100g|omega-3-fat_100g|-alpha-linolenic-acid_100g|-eicosapentaenoic-acid_100g|-docosahexaenoic-acid_100g|omega-6-fat_100g|-linoleic-acid_100g|-arachidonic-acid_100g|-gamma-linolenic-acid_100g|-dihomo-gamma-linolenic-acid_100g|omega-9-fat_100g|-oleic-acid_100g|-elaidic-acid_100g|-gondoic-acid_100g|-mead-acid_100g|-erucic-acid_100g|-nervonic-acid_100g|trans-fat_100g|cholesterol_100g|carbohydrates_100g|sugars_100g|-sucrose_100g|-glucose_100g|-fructose_100g|-lactose_100g|-maltose_100g|-maltodextrins_100g|starch_100g|polyols_100g|fiber_100g|soluble-fiber_100g|insoluble-fiber_100g|proteins_100g|casein_100g|serum-proteins_100g|nucleotides_100g|salt_100g|sodium_100g|alcohol_100g|vitamin-a_100g|beta-carotene_100g|vitamin-d_100g|vitamin-e_100g|vitamin-k_100g|vitamin-c_100g|vitamin-b1_100g|vitamin-b2_100g|vitamin-pp_100g|vitamin-b6_100g|vitamin-b9_100g|folates_100g|vitamin-b12_100g|biotin_100g|pantothenic-acid_100g|silica_100g|bicarbonate_100g|potassium_100g|chloride_100g|calcium_100g|phosphorus_100g|iron_100g|magnesium_100g|zinc_100g|copper_100g|manganese_100g|fluoride_100g|selenium_100g|chromium_100g|molybdenum_100g|iodine_100g|caffeine_100g|taurine_100g|ph_100g|fruits-vegetables-nuts_100g|fruits-vegetables-nuts-dried_100g|fruits-vegetables-nuts-estimate_100g|fruits-vegetables-nuts-estimate-from-ingredients_100g|collagen-meat-protein-ratio_100g|cocoa_100g|chlorophyl_100g|carbon-footprint_100g|carbon-footprint-from-meat-or-fish_100g|nutrition-score-fr_100g|nutrition-score-uk_100g|glycemic-index_100g|water-hardness_100g|choline_100g|phylloquinone_100g|beta-glucan_100g|inositol_100g|carnitine_100g|\n",
      "+-----+--------------------+--------------+----------+-------------------+---------------+----------------------+--------------+------------------------+------------+--------+---------+--------------+------------+--------------+-------+-----------+----------+---------------+-------------+-------+------------+----------+--------------------+-------------------------+------+-----------+---------+---------+--------------+------------------------+------+-----------+---------------+------+---------+--------------+------------+----------------+----------------+---------+------------+------+-----------+---------+------------+----------------+-------------+-----------+---------+--------------+------------+----------------+----------------+----------+-------------+-------------+-----------+----------------+--------------+--------------------+--------------------+--------------------+-----------+--------------+--------------+-------------+----------------+---------+---------------+---------------------+---------------------------+-------------------+-------------------------+--------------+----------------+-----------+--------------------+--------+------------------+------------------+------------------+-------------------+-----------------+-----------------+-------------------+-------------------+------------------+--------------------+------------------+---------------------+------------------+-------------------+-------------------+------------------------+------------------------+----------------+--------------------------+---------------------------+--------------------------+----------------+-------------------+----------------------+--------------------------+---------------------------------+----------------+----------------+------------------+------------------+---------------+-----------------+-------------------+--------------+----------------+------------------+-----------+-------------+-------------+--------------+-------------+-------------+-------------------+-----------+------------+----------+------------------+--------------------+-------------+-----------+-------------------+----------------+---------+-----------+------------+--------------+------------------+--------------+--------------+--------------+--------------+---------------+---------------+---------------+---------------+---------------+------------+----------------+-----------+---------------------+-----------+----------------+--------------+-------------+------------+---------------+---------+--------------+---------+-----------+--------------+-------------+-------------+-------------+---------------+-----------+-------------+------------+-------+---------------------------+---------------------------------+------------------------------------+-----------------------------------------------------+--------------------------------+----------+---------------+---------------------+---------------------------------------+-----------------------+-----------------------+-------------------+-------------------+------------+------------------+----------------+-------------+--------------+\n",
      "|225.0|http://world-en.o...|nutrinet-sante|1623855208|2021-06-16 15:53:28|     1623855209|   2021-06-16 15:53:29|jeunes pousses|                    null|        null|    null|     null|          null|        null|          null|endives|    endives|      null|           null|         null|   null|        null|      null|                null|                     null|  null|       null|     null|     null|          null|                    null|  null|       null|           null|  null|en:france|     en:france|      France|            null|            null|     null|        null|  null|       null|     null|        null|            null|         null|       null|     null|          null|        null|            null|            null|      null|      unknown|      unknown|       null|            null|          null|en:to-be-complete...|en:to-be-complete...|To be completed,N...|       null|          null|       unknown|         null|            null|     null|           null|                 null|                       null|               null|                     null|          null|            null|       null|                null|    null|              null|              null|              null|               null|             null|             null|               null|               null|              null|                null|              null|                 null|              null|               null|               null|                    null|                    null|            null|                      null|                       null|                      null|            null|               null|                  null|                      null|                             null|            null|            null|              null|              null|           null|             null|               null|          null|            null|              null|       null|         null|         null|          null|         null|         null|               null|       null|        null|      null|              null|                null|         null|       null|               null|            null|     null|       null|        null|          null|              null|          null|          null|          null|          null|           null|           null|           null|           null|           null|        null|            null|       null|                 null|       null|            null|          null|         null|        null|           null|     null|          null|     null|       null|          null|         null|         null|         null|           null|       null|         null|        null|   null|                       null|                             null|                                null|                                                 null|                            null|      null|           null|                 null|                                   null|                   null|                   null|               null|               null|        null|              null|            null|         null|          null|\n",
      "+-----+--------------------+--------------+----------+-------------------+---------------+----------------------+--------------+------------------------+------------+--------+---------+--------------+------------+--------------+-------+-----------+----------+---------------+-------------+-------+------------+----------+--------------------+-------------------------+------+-----------+---------+---------+--------------+------------------------+------+-----------+---------------+------+---------+--------------+------------+----------------+----------------+---------+------------+------+-----------+---------+------------+----------------+-------------+-----------+---------+--------------+------------+----------------+----------------+----------+-------------+-------------+-----------+----------------+--------------+--------------------+--------------------+--------------------+-----------+--------------+--------------+-------------+----------------+---------+---------------+---------------------+---------------------------+-------------------+-------------------------+--------------+----------------+-----------+--------------------+--------+------------------+------------------+------------------+-------------------+-----------------+-----------------+-------------------+-------------------+------------------+--------------------+------------------+---------------------+------------------+-------------------+-------------------+------------------------+------------------------+----------------+--------------------------+---------------------------+--------------------------+----------------+-------------------+----------------------+--------------------------+---------------------------------+----------------+----------------+------------------+------------------+---------------+-----------------+-------------------+--------------+----------------+------------------+-----------+-------------+-------------+--------------+-------------+-------------+-------------------+-----------+------------+----------+------------------+--------------------+-------------+-----------+-------------------+----------------+---------+-----------+------------+--------------+------------------+--------------+--------------+--------------+--------------+---------------+---------------+---------------+---------------+---------------+------------+----------------+-----------+---------------------+-----------+----------------+--------------+-------------+------------+---------------+---------+--------------+---------+-----------+--------------+-------------+-------------+-------------+---------------+-----------+-------------+------------+-------+---------------------------+---------------------------------+------------------------------------+-----------------------------------------------------+--------------------------------+----------+---------------+---------------------+---------------------------------------+-----------------------+-----------------------+-------------------+-------------------+------------+------------------+----------------+-------------+--------------+\n",
      "only showing top 1 row\n",
      "\n"
     ]
    }
   ],
   "source": [
    "# shows the first row in a dataframe format\n",
    "# we cannot see well as we have a lot of columns\n",
    "data.show(1)"
   ]
  },
  {
   "cell_type": "markdown",
   "metadata": {},
   "source": [
    "## working with the subset"
   ]
  },
  {
   "cell_type": "code",
   "execution_count": 9,
   "metadata": {},
   "outputs": [],
   "source": [
    "# let's work with the sample to not break my computer (20%)\n",
    "samples = data.sample(0.2)"
   ]
  },
  {
   "cell_type": "code",
   "execution_count": 10,
   "metadata": {},
   "outputs": [
    {
     "data": {
      "text/plain": [
       "489937"
      ]
     },
     "execution_count": 10,
     "metadata": {},
     "output_type": "execute_result"
    }
   ],
   "source": [
    "# count how many rows\n",
    "samples.count() # 489.937"
   ]
  },
  {
   "cell_type": "code",
   "execution_count": 6,
   "metadata": {},
   "outputs": [],
   "source": [
    "# to save it into csv, can break if it's too big\n",
    "# samples.toPandas().to_csv(\"sample_openfood.csv\", header=True)"
   ]
  },
  {
   "cell_type": "code",
   "execution_count": 11,
   "metadata": {},
   "outputs": [],
   "source": [
    "# selecting only the important columns for our analysis\n",
    "important = ['origins_en','product_name','brands', 'categories_en', 'countries_en', 'food_groups_en', \"energy_100g\",'proteins_100g', 'sugars_100g','nutriscore_score', 'nutriscore_grade']"
   ]
  },
  {
   "cell_type": "code",
   "execution_count": 12,
   "metadata": {},
   "outputs": [],
   "source": [
    "# dropping the rows where it has any nulls in the column we chose\n",
    "dropped = samples.na.drop(how = \"any\", subset = important)"
   ]
  },
  {
   "cell_type": "code",
   "execution_count": 13,
   "metadata": {},
   "outputs": [
    {
     "data": {
      "text/plain": [
       "11852"
      ]
     },
     "execution_count": 13,
     "metadata": {},
     "output_type": "execute_result"
    }
   ],
   "source": [
    "# put only the columns we need in a new variable\n",
    "# see how much rows we have\n",
    "data2 = dropped.select(important)\n",
    "data2.count() # 11.852"
   ]
  },
  {
   "cell_type": "code",
   "execution_count": 14,
   "metadata": {},
   "outputs": [
    {
     "data": {
      "text/plain": [
       "[Row(origins_en='fr:quebec', product_name='Salade Cesar', brands='Kirkland Signature', categories_en='Plant-based foods and beverages,Plant-based foods,Fruits and vegetables based foods,Vegetables based foods,Leaf vegetables', countries_en='Canada', food_groups_en='Fruits and vegetables,Vegetables', energy_100g=1210.0, proteins_100g=22.0, sugars_100g=0.0, nutriscore_score=6, nutriscore_grade='c')]"
      ]
     },
     "execution_count": 14,
     "metadata": {},
     "output_type": "execute_result"
    }
   ],
   "source": [
    "# see the first row\n",
    "# much more readable\n",
    "data2.head(1)"
   ]
  },
  {
   "cell_type": "code",
   "execution_count": 16,
   "metadata": {},
   "outputs": [
    {
     "name": "stdout",
     "output_type": "stream",
     "text": [
      "['origins', 'product_name', 'brands', 'categories', 'countries', 'food_groups', 'energy_100g', 'proteins_100g', 'sugars_100g', 'nutriscore_score', 'nutriscore_grade']\n"
     ]
    }
   ],
   "source": [
    "# to rename a column \n",
    "data2 = data2.withColumnRenamed(\"categories_en\", \"categories\").withColumnRenamed(\"food_groups_en\", \"food_groups\").withColumnRenamed(\"origins_en\", \"origins\").withColumnRenamed(\"countries_en\", \"countries\")\n",
    "print(data2.columns)"
   ]
  },
  {
   "cell_type": "code",
   "execution_count": 17,
   "metadata": {},
   "outputs": [
    {
     "name": "stdout",
     "output_type": "stream",
     "text": [
      "+---------+--------------------+------------------+--------------------+---------+--------------------+-----------+-------------+-----------+----------------+----------------+\n",
      "|  origins|        product_name|            brands|          categories|countries|         food_groups|energy_100g|proteins_100g|sugars_100g|nutriscore_score|nutriscore_grade|\n",
      "+---------+--------------------+------------------+--------------------+---------+--------------------+-----------+-------------+-----------+----------------+----------------+\n",
      "|fr:quebec|        Salade Cesar|Kirkland Signature|Plant-based foods...|   Canada|Fruits and vegeta...|     1210.0|         22.0|        0.0|               6|               c|\n",
      "|fr:quebec|Chaussons tressés...|Kirkland Signature|Snacks,Sweet snac...|   Canada|Sugary snacks,Pas...|     1090.0|         3.33|       24.7|               9|               c|\n",
      "+---------+--------------------+------------------+--------------------+---------+--------------------+-----------+-------------+-----------+----------------+----------------+\n",
      "only showing top 2 rows\n",
      "\n"
     ]
    }
   ],
   "source": [
    "# see the first 2 rows\n",
    "data2.show(2)"
   ]
  },
  {
   "cell_type": "code",
   "execution_count": 18,
   "metadata": {},
   "outputs": [
    {
     "name": "stdout",
     "output_type": "stream",
     "text": [
      "Fruits and vegetables,Vegetables\n"
     ]
    },
    {
     "data": {
      "text/plain": [
       "'Fruits and vegetables,Vegetables'"
      ]
     },
     "execution_count": 18,
     "metadata": {},
     "output_type": "execute_result"
    }
   ],
   "source": [
    "## how to get a specific object inside the column?\n",
    "data2['food_groups'][0] # returns a column object\n",
    "\n",
    "# 2 ways\n",
    "print(data2.collect()[0][5])\n",
    "data2.head(1)[0]['food_groups']\n"
   ]
  },
  {
   "cell_type": "code",
   "execution_count": 20,
   "metadata": {},
   "outputs": [
    {
     "name": "stdout",
     "output_type": "stream",
     "text": [
      "+--------------------------------+\n",
      "|food_groups                     |\n",
      "+--------------------------------+\n",
      "|Fruits and vegetables,Vegetables|\n",
      "+--------------------------------+\n",
      "only showing top 1 row\n",
      "\n"
     ]
    }
   ],
   "source": [
    "# SQL query \n",
    "data2.createOrReplaceTempView('food_table')\n",
    "query = \"SELECT food_groups FROM food_table;\"\n",
    "spark.sql(query).show(1, truncate=False)"
   ]
  },
  {
   "cell_type": "markdown",
   "metadata": {},
   "source": [
    "## question 1: which categories has on average the best and worst nutriscore?\n",
    "The lower the score of the nutriscore then it is considered more nutritious\n",
    "\n",
    "| Points      | Nutriscore Grade| \n",
    "| :---       |  :----: | \n",
    "|  -15 to 1   |  A      |\n",
    "|   0 to 2    |  B      | \n",
    "|   3 to 10   |  C      | \n",
    "|  11 to 18   |  D      |\n",
    "|  19 to 40   |  E      |"
   ]
  },
  {
   "cell_type": "code",
   "execution_count": 21,
   "metadata": {},
   "outputs": [
    {
     "name": "stdout",
     "output_type": "stream",
     "text": [
      "+--------------------------------------------------------------------------------------------------------------------------------------------------------------------------------------------+-----+\n",
      "|categories                                                                                                                                                                                  |count|\n",
      "+--------------------------------------------------------------------------------------------------------------------------------------------------------------------------------------------+-----+\n",
      "|Plant-based foods and beverages,Plant-based foods,Fruits and vegetables based foods,Vegetables based foods,Leaf vegetables                                                                  |1    |\n",
      "|Plant-based foods and beverages,Plant-based foods,Fruits and vegetables based foods,Vegetables based foods,Tomatoes and their products,Tomato pastes                                        |11   |\n",
      "|Plant-based foods and beverages,Beverages,Plant-based beverages,Vegetable-based foods and beverages,Vegetable-based beverages,Artificially sweetened beverages,es:jugos,es:jugos-de-verduras|1    |\n",
      "|Plant-based foods and beverages,Plant-based foods,Snacks,Salty snacks,Appetizers,Nuts and their products,Nuts,Pistachios,Roasted pistachios,Salted nuts,Salted pistachios                   |1    |\n",
      "|Biscuits and cakes,Cakes,Madeleines                                                                                                                                                         |3    |\n",
      "|Meals,Pasta dishes,Macaroni and cheese                                                                                                                                                      |3    |\n",
      "|Seafood,Fishes,Frozen foods,Fish fillets,Frozen seafood,Cods,Frozen fishes,Cod fillets                                                                                                      |3    |\n",
      "|Meats,Pork,Bacon,Unsmoked bacon                                                                                                                                                             |2    |\n",
      "|Plant-based foods and beverages,Plant-based foods,Fruits and vegetables based foods,Fruits based foods,Fruits,Berries,Blueberries                                                           |2    |\n",
      "|Plant-based foods and beverages,Plant-based foods,Snacks,Nuts and their products,Nuts,Pistachios                                                                                            |1    |\n",
      "+--------------------------------------------------------------------------------------------------------------------------------------------------------------------------------------------+-----+\n",
      "only showing top 10 rows\n",
      "\n"
     ]
    }
   ],
   "source": [
    "# let's first see how many categories are there \n",
    "\n",
    "data2.groupBy('categories').count().show(10, truncate= False)\n",
    "# as we see the categories consists of many things\n",
    "# say that the first category that appears is the main category and we want to only consider that.\n",
    "#  we need to iterate through each rows and do a split on the comma (,) "
   ]
  },
  {
   "cell_type": "code",
   "execution_count": 22,
   "metadata": {},
   "outputs": [
    {
     "name": "stdout",
     "output_type": "stream",
     "text": [
      "Row(origins='fr:quebec', product_name='Salade Cesar', brands='Kirkland Signature', categories='Plant-based foods and beverages,Plant-based foods,Fruits and vegetables based foods,Vegetables based foods,Leaf vegetables', countries='Canada', food_groups='Fruits and vegetables,Vegetables', energy_100g=1210.0, proteins_100g=22.0, sugars_100g=0.0, nutriscore_score=6, nutriscore_grade='c')\n"
     ]
    },
    {
     "data": {
      "text/plain": [
       "(6, 'Plant-based foods and beverages')"
      ]
     },
     "execution_count": 22,
     "metadata": {},
     "output_type": "execute_result"
    }
   ],
   "source": [
    "# let's focus on the first row to see how to do it\n",
    "print(data2.head(1)[0])\n",
    "\n",
    "# we want to get the nutriscore and the first category\n",
    "# make a lambda function to split the categories and get the first one\n",
    "(lambda x: (x['nutriscore_score'], x['categories'].split(',')[0]))(data2.head(1)[0])"
   ]
  },
  {
   "cell_type": "code",
   "execution_count": 23,
   "metadata": {},
   "outputs": [
    {
     "data": {
      "text/plain": [
       "PythonRDD[78] at RDD at PythonRDD.scala:53"
      ]
     },
     "execution_count": 23,
     "metadata": {},
     "output_type": "execute_result"
    }
   ],
   "source": [
    "# we cannot apply map() function to a dataframe so we need to convert it to an rdd object first\n",
    "rdd=data2.rdd.map(lambda x: (x['nutriscore_score'], x['categories'].split(',')[0]))  # returns rdd object\n",
    "rdd"
   ]
  },
  {
   "cell_type": "code",
   "execution_count": 24,
   "metadata": {},
   "outputs": [
    {
     "data": {
      "text/plain": [
       "(6, 'Plant-based foods and beverages')"
      ]
     },
     "execution_count": 24,
     "metadata": {},
     "output_type": "execute_result"
    }
   ],
   "source": [
    "# to see what is inside the first row (2 ways)\n",
    "rdd.take(1)\n",
    "rdd.first()"
   ]
  },
  {
   "cell_type": "code",
   "execution_count": 25,
   "metadata": {},
   "outputs": [
    {
     "name": "stdout",
     "output_type": "stream",
     "text": [
      "+----------+--------------------+\n",
      "|nutriscore|       main_category|\n",
      "+----------+--------------------+\n",
      "|         6|Plant-based foods...|\n",
      "|         9|              Snacks|\n",
      "+----------+--------------------+\n",
      "only showing top 2 rows\n",
      "\n"
     ]
    }
   ],
   "source": [
    "# let's convert it back to a dataframe\n",
    "newdf = rdd.toDF(['nutriscore','main_category'])\n",
    "newdf.show(2)"
   ]
  },
  {
   "cell_type": "code",
   "execution_count": 26,
   "metadata": {},
   "outputs": [
    {
     "name": "stdout",
     "output_type": "stream",
     "text": [
      "+----------+-------------------------------+\n",
      "|nutriscore|main_category                  |\n",
      "+----------+-------------------------------+\n",
      "|6         |Plant-based foods and beverages|\n",
      "|9         |Snacks                         |\n",
      "|23        |Biscuits and cakes             |\n",
      "+----------+-------------------------------+\n",
      "only showing top 3 rows\n",
      "\n"
     ]
    }
   ],
   "source": [
    "# to see the full value of the dataframe we can specify truncate=False\n",
    "newdf.show(3, truncate= False)"
   ]
  },
  {
   "cell_type": "code",
   "execution_count": 27,
   "metadata": {},
   "outputs": [
    {
     "name": "stdout",
     "output_type": "stream",
     "text": [
      "+-------------------------------+-------------------+\n",
      "|main_category                  |mean_score         |\n",
      "+-------------------------------+-------------------+\n",
      "|Milk-substitute                |-2.0               |\n",
      "|Meat-based products            |-1.0               |\n",
      "|Farming products               |-0.9516129032258065|\n",
      "|Chips and fries                |0.125              |\n",
      "|Plant-based foods and beverages|1.6856492027334853 |\n",
      "|Canned foods                   |4.0                |\n",
      "|Frozen foods                   |4.492227979274611  |\n",
      "|Pickles                        |4.5                |\n",
      "|Meals                          |4.6120857699805065 |\n",
      "|Seafood                        |6.063439065108514  |\n",
      "+-------------------------------+-------------------+\n",
      "only showing top 10 rows\n",
      "\n"
     ]
    }
   ],
   "source": [
    "from pyspark.sql.functions import avg\n",
    "\n",
    "#  the best nutriscore\n",
    "newdf.groupBy('main_category') \\\n",
    "    .agg(avg('nutriscore').alias('mean_score')) \\\n",
    "    .sort('mean_score') \\\n",
    "    .show(10, truncate= False)"
   ]
  },
  {
   "cell_type": "code",
   "execution_count": 28,
   "metadata": {},
   "outputs": [
    {
     "name": "stdout",
     "output_type": "stream",
     "text": [
      "+----------------------+------------------+\n",
      "|main_category         |mean_score        |\n",
      "+----------------------+------------------+\n",
      "|Fish and meat and eggs|19.36842105263158 |\n",
      "|Sweet pies            |17.0              |\n",
      "|Snacks                |16.80310378273521 |\n",
      "|Biscuits and cakes    |16.28301886792453 |\n",
      "|Pies                  |14.833333333333334|\n",
      "|Fats                  |14.6              |\n",
      "|Breakfasts            |14.444444444444445|\n",
      "|Spreads               |13.482758620689655|\n",
      "|Crêpes and galettes   |13.25             |\n",
      "|Sweeteners            |12.703703703703704|\n",
      "+----------------------+------------------+\n",
      "only showing top 10 rows\n",
      "\n"
     ]
    }
   ],
   "source": [
    "from pyspark.sql.functions import desc, avg\n",
    "\n",
    "# the worst nutriscore\n",
    "newdf.groupBy('main_category') \\\n",
    "    .agg(avg('nutriscore').alias('mean_score')) \\\n",
    "    .sort(desc('mean_score')) \\\n",
    "    .show(10, truncate= False)"
   ]
  },
  {
   "cell_type": "markdown",
   "metadata": {},
   "source": [
    "## question 2: which country has on average the best nutriscore?"
   ]
  },
  {
   "cell_type": "code",
   "execution_count": 29,
   "metadata": {},
   "outputs": [
    {
     "name": "stdout",
     "output_type": "stream",
     "text": [
      "2200\n",
      "+---------+\n",
      "|origins  |\n",
      "+---------+\n",
      "|fr:quebec|\n",
      "|fr:quebec|\n",
      "|France   |\n",
      "|France   |\n",
      "|France   |\n",
      "+---------+\n",
      "only showing top 5 rows\n",
      "\n"
     ]
    }
   ],
   "source": [
    "## see how many distinct origins country we have\n",
    "print(data2.select('origins').distinct().count())\n",
    "\n",
    "data2.select('origins').show(5, truncate=False)"
   ]
  },
  {
   "cell_type": "code",
   "execution_count": 37,
   "metadata": {},
   "outputs": [],
   "source": [
    "# we see that the name of the country is very messy, so we need to clean it a bit\n",
    "# if there is more than one country, i will only consider the first one\n",
    "# if the name of the country consist of ':' i will ignore those country and put null value\n",
    "# else i will keep the value\n",
    "# note: i can do much better cleaning this but i think this is the quickest way, we will get most of the important country\n",
    "\n",
    "def clean_country(df):\n",
    "    countries = df.origins\n",
    "    ns = df.nutriscore_score\n",
    "    export = df.countries\n",
    "\n",
    "    if \",\" in countries:\n",
    "        clean = countries.split(',')[0].title()\n",
    "        if \":\" in countries:\n",
    "            clean = None\n",
    "    elif \":\" in countries:\n",
    "        clean = None\n",
    "    else:\n",
    "        clean = countries.title()\n",
    "\n",
    "    return clean, ns, export"
   ]
  },
  {
   "cell_type": "code",
   "execution_count": 40,
   "metadata": {},
   "outputs": [
    {
     "name": "stdout",
     "output_type": "stream",
     "text": [
      "+-------+----------+-------+\n",
      "|origins|nutriscore|exports|\n",
      "+-------+----------+-------+\n",
      "|null   |6         |Canada |\n",
      "|null   |9         |Canada |\n",
      "|France |23        |France |\n",
      "|France |5         |France |\n",
      "+-------+----------+-------+\n",
      "only showing top 4 rows\n",
      "\n"
     ]
    }
   ],
   "source": [
    "# apply it to the rdd\n",
    "rdd=data2.rdd.map(lambda x: clean_country(x))\n",
    "newdf2 = rdd.toDF(['origins','nutriscore', 'exports'])\n",
    "newdf2.show(4, truncate=False)"
   ]
  },
  {
   "cell_type": "code",
   "execution_count": 41,
   "metadata": {},
   "outputs": [
    {
     "data": {
      "text/plain": [
       "400"
      ]
     },
     "execution_count": 41,
     "metadata": {},
     "output_type": "execute_result"
    }
   ],
   "source": [
    "# dropping the null values\n",
    "newdf2 = newdf2.na.drop(how = \"any\")\n",
    "\n",
    "# see how many distinct country\n",
    "newdf2.select('origins').distinct().count()"
   ]
  },
  {
   "cell_type": "code",
   "execution_count": 42,
   "metadata": {},
   "outputs": [
    {
     "name": "stdout",
     "output_type": "stream",
     "text": [
      "+-------------------------------------+------------------+-------------+\n",
      "|origins                              |mean_score        |count_country|\n",
      "+-------------------------------------+------------------+-------------+\n",
      "|Thailand                             |2.422680412371134 |97           |\n",
      "|Turkey                               |2.4415584415584415|77           |\n",
      "|China                                |2.4725274725274726|91           |\n",
      "|Vietnam                              |3.1142857142857143|35           |\n",
      "|Italy                                |3.776034236804565 |701          |\n",
      "|Portugal                             |4.574468085106383 |47           |\n",
      "|Peru                                 |4.746268656716418 |67           |\n",
      "|Finland                              |4.859375          |64           |\n",
      "|European Union And Non European Union|4.888888888888889 |81           |\n",
      "|United States                        |4.9411764705882355|238          |\n",
      "+-------------------------------------+------------------+-------------+\n",
      "only showing top 10 rows\n",
      "\n"
     ]
    }
   ],
   "source": [
    "## let's see which country has on average the lowest nutriscore\n",
    "# i will only consider countries that appears 30 or more time\n",
    "\n",
    "newdf2.groupBy('origins') \\\n",
    "    .agg(avg('nutriscore').alias('mean_score'), count('origins').alias('count_country')) \\\n",
    "    .filter(count('origins') >= 30) \\\n",
    "    .sort('mean_score') \\\n",
    "    .show(10, truncate= False)"
   ]
  },
  {
   "cell_type": "markdown",
   "metadata": {},
   "source": [
    "## question 3: which country on average do more exports?"
   ]
  },
  {
   "cell_type": "code",
   "execution_count": 43,
   "metadata": {},
   "outputs": [],
   "source": [
    "## for this question i will only consider those countries that are in the top 10 of nutriscore score\n",
    "best_countries = newdf2.groupBy('origins') \\\n",
    "                        .agg(avg('nutriscore').alias('mean_score')) \\\n",
    "                        .filter(count('origins') >= 30).select('origins')\n",
    "\n",
    "# putting the countries names in the list\n",
    "best_countries = best_countries.select('origins').rdd.map(lambda x : x[0]).collect()"
   ]
  },
  {
   "cell_type": "code",
   "execution_count": 48,
   "metadata": {},
   "outputs": [
    {
     "name": "stdout",
     "output_type": "stream",
     "text": [
      "+--------------+----------+--------------------+\n",
      "|       origins|nutriscore|             exports|\n",
      "+--------------+----------+--------------------+\n",
      "|        France|        23|              France|\n",
      "|        France|         5|              France|\n",
      "|        France|        16|              France|\n",
      "|United Kingdom|         9|France,United Kin...|\n",
      "+--------------+----------+--------------------+\n",
      "only showing top 4 rows\n",
      "\n"
     ]
    }
   ],
   "source": [
    "# filter the dataframe and put it in a new one\n",
    "filtered = newdf2.filter(newdf2['origins'].isin(best_countries))\n",
    "filtered.show(4)"
   ]
  },
  {
   "cell_type": "code",
   "execution_count": 53,
   "metadata": {},
   "outputs": [],
   "source": [
    "# this function counts how many countries the product available in\n",
    "# if there is only one country then it means the product is only available in the origins country\n",
    "# so i will return 0\n",
    "# if there is more than 1, i will count based on splitting the comma then the total is -1 \n",
    "# because i don't want to count the origin country\n",
    "def count_exports(df):\n",
    "    country = df.origins\n",
    "    exports = df.exports\n",
    "\n",
    "    if ',' in exports:\n",
    "        c = exports.split(',')\n",
    "        return country, len(c)-1\n",
    "    else:\n",
    "        return country, 0"
   ]
  },
  {
   "cell_type": "code",
   "execution_count": 54,
   "metadata": {},
   "outputs": [
    {
     "name": "stdout",
     "output_type": "stream",
     "text": [
      "+--------------+------------+\n",
      "|origins       |export_count|\n",
      "+--------------+------------+\n",
      "|France        |0           |\n",
      "|France        |0           |\n",
      "|France        |0           |\n",
      "|United Kingdom|1           |\n",
      "+--------------+------------+\n",
      "only showing top 4 rows\n",
      "\n"
     ]
    }
   ],
   "source": [
    "# apply it to rdd and transform it back to dataframe\n",
    "rdd=filtered.rdd.map(lambda x: count_exports(x))\n",
    "newdf3 = rdd.toDF(['origins','export_count'])\n",
    "newdf3.show(4, truncate=False)"
   ]
  },
  {
   "cell_type": "code",
   "execution_count": 56,
   "metadata": {},
   "outputs": [
    {
     "name": "stdout",
     "output_type": "stream",
     "text": [
      "+--------------+------------+\n",
      "|origins       |total_export|\n",
      "+--------------+------------+\n",
      "|France        |334         |\n",
      "|Italy         |189         |\n",
      "|European Union|172         |\n",
      "|Spain         |131         |\n",
      "|Germany       |106         |\n",
      "|Switzerland   |51          |\n",
      "|United States |50          |\n",
      "|Belgium       |47          |\n",
      "|United Kingdom|44          |\n",
      "|Argentina     |43          |\n",
      "+--------------+------------+\n",
      "only showing top 10 rows\n",
      "\n"
     ]
    }
   ],
   "source": [
    "# from my sample, France is the country that has the most exports\n",
    "from pyspark.sql.functions import sum\n",
    "\n",
    "newdf3.groupBy('origins') \\\n",
    "    .agg(sum('export_count').alias('total_export')) \\\n",
    "    .sort(desc('total_export')) \\\n",
    "    .show(10,truncate= False)"
   ]
  },
  {
   "cell_type": "markdown",
   "metadata": {},
   "source": [
    "## Stop the session"
   ]
  },
  {
   "cell_type": "code",
   "execution_count": 57,
   "metadata": {},
   "outputs": [
    {
     "data": {
      "text/html": [
       "\n",
       "            <div>\n",
       "                <p><b>SparkSession - in-memory</b></p>\n",
       "                \n",
       "        <div>\n",
       "            <p><b>SparkContext</b></p>\n",
       "\n",
       "            <p><a href=\"http://GM99:4040\">Spark UI</a></p>\n",
       "\n",
       "            <dl>\n",
       "              <dt>Version</dt>\n",
       "                <dd><code>v3.3.0</code></dd>\n",
       "              <dt>Master</dt>\n",
       "                <dd><code>local[*]</code></dd>\n",
       "              <dt>AppName</dt>\n",
       "                <dd><code>openfoodAnalysis</code></dd>\n",
       "            </dl>\n",
       "        </div>\n",
       "        \n",
       "            </div>\n",
       "        "
      ],
      "text/plain": [
       "<pyspark.sql.session.SparkSession at 0x153ea3039a0>"
      ]
     },
     "execution_count": 57,
     "metadata": {},
     "output_type": "execute_result"
    }
   ],
   "source": [
    "# show the UI \n",
    "spark"
   ]
  },
  {
   "cell_type": "code",
   "execution_count": 58,
   "metadata": {},
   "outputs": [],
   "source": [
    "# to stop the session\n",
    "spark.stop()"
   ]
  },
  {
   "cell_type": "code",
   "execution_count": null,
   "metadata": {},
   "outputs": [],
   "source": []
  }
 ],
 "metadata": {
  "kernelspec": {
   "display_name": "Python 3.9.7 ('.sparkenv': venv)",
   "language": "python",
   "name": "python3"
  },
  "language_info": {
   "codemirror_mode": {
    "name": "ipython",
    "version": 3
   },
   "file_extension": ".py",
   "mimetype": "text/x-python",
   "name": "python",
   "nbconvert_exporter": "python",
   "pygments_lexer": "ipython3",
   "version": "3.9.7"
  },
  "orig_nbformat": 4,
  "vscode": {
   "interpreter": {
    "hash": "4453a668336d8af78fb31a3be0a5a7df742bdfa0cb69258bcc51730166209065"
   }
  }
 },
 "nbformat": 4,
 "nbformat_minor": 2
}
